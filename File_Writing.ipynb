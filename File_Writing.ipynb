{
 "cells": [
  {
   "cell_type": "code",
   "execution_count": 2,
   "metadata": {
    "collapsed": false
   },
   "outputs": [
    {
     "name": "stdout",
     "output_type": "stream",
     "text": [
      "Line 0 of data\n",
      "\n",
      "Line 1 of data\n",
      "\n",
      "Line 2 of data\n",
      "\n"
     ]
    }
   ],
   "source": [
    "\"\"\"\n",
    "    The follow code demonstrates basic file writing and reading in Python.\n",
    "    This code is strictly for educational purposes as many python libraries implement\n",
    "    their own file I/O systems\n",
    "\"\"\"\n",
    "\n",
    "\n",
    "file = open(\"new_file.txt\", 'w')         #Open a new file and set mode to 'w'rite\n",
    "data = ['Line 0','Line 1','Line 2',]     #List of strings to write to file\n",
    "\n",
    "for datum in data:                       #Iterates through data list\n",
    "    file.write(datum + \"\\n\")             #Writes datum to file along with \"\\n\" character for newline\n",
    "\n",
    "file.close()                             #Close the file\n",
    "\n",
    "#Iterating through the file\n",
    "file = open('new_file.txt', 'r')         #Open file\n",
    "\n",
    "for line in file:                        #Iterate through lines in file\n",
    "    print(line)                          #Print each line in file\n",
    "    \n",
    "file.close()\n"
   ]
  },
  {
   "cell_type": "code",
   "execution_count": null,
   "metadata": {
    "collapsed": true
   },
   "outputs": [],
   "source": []
  }
 ],
 "metadata": {
  "kernelspec": {
   "display_name": "Python 2",
   "language": "python",
   "name": "python2"
  },
  "language_info": {
   "codemirror_mode": {
    "name": "ipython",
    "version": 2
   },
   "file_extension": ".py",
   "mimetype": "text/x-python",
   "name": "python",
   "nbconvert_exporter": "python",
   "pygments_lexer": "ipython2",
   "version": "2.7.9"
  }
 },
 "nbformat": 4,
 "nbformat_minor": 0
}
