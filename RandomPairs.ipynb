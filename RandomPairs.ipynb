{
 "cells": [
  {
   "cell_type": "code",
   "execution_count": 1,
   "metadata": {
    "collapsed": true
   },
   "outputs": [],
   "source": [
    "import random as rdm"
   ]
  },
  {
   "cell_type": "code",
   "execution_count": 2,
   "metadata": {
    "collapsed": true
   },
   "outputs": [],
   "source": [
    "def rand_pairs(names):\n",
    "    indices = len(names) - 1\n",
    "    pair = []\n",
    "    for i in range(2):\n",
    "        index = rdm.randint(0, indices)\n",
    "        name = names[index]\n",
    "        if name in pair:\n",
    "            while name in pair:\n",
    "                index = rdm.randint(0, indices)\n",
    "                name = names[index]\n",
    "        pair.append(name)\n",
    "    return pair"
   ]
  },
  {
   "cell_type": "code",
   "execution_count": 10,
   "metadata": {
    "collapsed": true
   },
   "outputs": [],
   "source": [
    "def week_schedule(names, days):\n",
    "    schedule = []\n",
    "    selected = []\n",
    "    for day in days:\n",
    "        pair = rand_pairs(names)\n",
    "        if pair[0] in selected or pair[1] in selected:\n",
    "            while pair[0] in selected or pair[1] in selected:\n",
    "                pair = rand_pairs(names)\n",
    "                \n",
    "        selected.append(pair[0])\n",
    "        selected.append(pair[1])\n",
    "        pair.append(day)\n",
    "        schedule.append(pair)\n",
    "    return schedule"
   ]
  },
  {
   "cell_type": "code",
   "execution_count": 11,
   "metadata": {
    "collapsed": false
   },
   "outputs": [
    {
     "name": "stdout",
     "output_type": "stream",
     "text": [
      "[['Mitchell', 'Anthony', 'Monday'], ['Denise', 'Stacey', 'Tuesday'], ['Gustavo', 'Ben', 'Wednsday'], ['Abby', 'Danica', 'Thursday']]\n"
     ]
    }
   ],
   "source": [
    "names = [\"Abby\", \"Anthony\", \"Ben\", \"Danica\", \"Denise\", \"Gustavo\", \"Mitchell\", \"Stacey\"]\n",
    "days = [\"Monday\", \"Tuesday\", \"Wednsday\", \"Thursday\"]\n",
    "\n",
    "pair = rand_pairs(names)\n",
    "schedule = week_schedule(names, days)\n",
    "\n",
    "\n",
    "#print pair\n",
    "print schedule"
   ]
  },
  {
   "cell_type": "code",
   "execution_count": null,
   "metadata": {
    "collapsed": true
   },
   "outputs": [],
   "source": []
  }
 ],
 "metadata": {
  "kernelspec": {
   "display_name": "Python 2",
   "language": "python",
   "name": "python2"
  },
  "language_info": {
   "codemirror_mode": {
    "name": "ipython",
    "version": 2
   },
   "file_extension": ".py",
   "mimetype": "text/x-python",
   "name": "python",
   "nbconvert_exporter": "python",
   "pygments_lexer": "ipython2",
   "version": "2.7.9"
  }
 },
 "nbformat": 4,
 "nbformat_minor": 0
}
